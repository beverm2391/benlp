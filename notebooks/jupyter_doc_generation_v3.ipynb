{
 "cells": [
  {
   "cell_type": "code",
   "execution_count": 1,
   "metadata": {},
   "outputs": [],
   "source": [
    "from benlp.document import JupyterSimple"
   ]
  },
  {
   "cell_type": "code",
   "execution_count": 2,
   "metadata": {},
   "outputs": [],
   "source": [
    "fpath = \"/Users/beneverman/Documents/Coding/benlp_v1/data/test/lp_solver.ipynb\"\n",
    "doc = JupyterSimple(fpath)"
   ]
  },
  {
   "cell_type": "code",
   "execution_count": 3,
   "metadata": {},
   "outputs": [],
   "source": [
    "doc.create_prompt()\n",
    "with open(\"../data/test/prompt.txt\", \"w\") as f:\n",
    "    f.write(doc.final_prompt)"
   ]
  },
  {
   "cell_type": "code",
   "execution_count": 4,
   "metadata": {},
   "outputs": [
    {
     "name": "stdout",
     "output_type": "stream",
     "text": [
      "Running...\n",
      "Generating docs...\n",
      "Complete.\n",
      "Exporting docs...\n",
      "Docs exported to /Users/beneverman/Documents/Coding/benlp_v1/data/test/lp_solver_docs_872549.md\n",
      "Complete.\n"
     ]
    }
   ],
   "source": [
    "doc.run()"
   ]
  },
  {
   "cell_type": "code",
   "execution_count": null,
   "metadata": {},
   "outputs": [],
   "source": []
  }
 ],
 "metadata": {
  "kernelspec": {
   "display_name": "venv",
   "language": "python",
   "name": "python3"
  },
  "language_info": {
   "codemirror_mode": {
    "name": "ipython",
    "version": 3
   },
   "file_extension": ".py",
   "mimetype": "text/x-python",
   "name": "python",
   "nbconvert_exporter": "python",
   "pygments_lexer": "ipython3",
   "version": "3.9.7"
  },
  "orig_nbformat": 4
 },
 "nbformat": 4,
 "nbformat_minor": 2
}
