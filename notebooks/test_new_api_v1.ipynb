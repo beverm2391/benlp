{
 "cells": [
  {
   "cell_type": "code",
   "execution_count": 46,
   "metadata": {},
   "outputs": [],
   "source": [
    "import openai\n",
    "from dotenv import load_dotenv\n",
    "import os\n",
    "import json\n",
    "import numpy as np\n",
    "\n",
    "load_dotenv(\".env\")\n",
    "openai.api_key = os.getenv(\"OPENAI_API_KEY\")\n",
    "\n",
    "from benlp.llms import Chat"
   ]
  },
  {
   "cell_type": "code",
   "execution_count": 6,
   "metadata": {},
   "outputs": [],
   "source": [
    "chat = Chat(model='gpt-3.5-turbo-0613')\n",
    "res = chat(\"This is a test. Tell me a long story.\")['response']"
   ]
  },
  {
   "cell_type": "code",
   "execution_count": 15,
   "metadata": {},
   "outputs": [
    {
     "name": "stdout",
     "output_type": "stream",
     "text": [
      "{\n",
      "  \"id\": \"chatcmpl-7R5wOL7HclUgAhv8kKs3K4H6BVNot\",\n",
      "  \"object\": \"chat.completion\",\n",
      "  \"created\": 1686692048,\n",
      "  \"model\": \"gpt-3.5-turbo-0613\",\n",
      "  \"choices\": [\n",
      "    {\n",
      "      \"index\": 0,\n",
      "      \"message\": {\n",
      "        \"role\": \"assistant\",\n",
      "        \"content\": \"The current weather in Boston is sunny and windy with a temperature of 72 degrees.\"\n",
      "      },\n",
      "      \"finish_reason\": \"stop\"\n",
      "    }\n",
      "  ],\n",
      "  \"usage\": {\n",
      "    \"prompt_tokens\": 67,\n",
      "    \"completion_tokens\": 17,\n",
      "    \"total_tokens\": 84\n",
      "  }\n",
      "}\n"
     ]
    }
   ],
   "source": [
    "# Example dummy function hard coded to return the same weather\n",
    "# In production, this could be your backend API or an external API\n",
    "def get_current_weather(location, unit=\"fahrenheit\"):\n",
    "    \"\"\"Get the current weather in a given location\"\"\"\n",
    "    weather_info = {\n",
    "        \"location\": location,\n",
    "        \"temperature\": \"72\",\n",
    "        \"unit\": unit,\n",
    "        \"forecast\": [\"sunny\", \"windy\"],\n",
    "    }\n",
    "    return json.dumps(weather_info)\n",
    "\n",
    "# Step 1, send model the user query and what functions it has access to\n",
    "def run_conversation():\n",
    "    response = openai.ChatCompletion.create(\n",
    "        model=\"gpt-3.5-turbo-0613\",\n",
    "        messages=[{\"role\": \"user\", \"content\": \"What's the weather like in Boston?\"}],\n",
    "        functions=[\n",
    "            {\n",
    "                \"name\": \"get_current_weather\",\n",
    "                \"description\": \"Get the current weather in a given location\",\n",
    "                \"parameters\": {\n",
    "                    \"type\": \"object\",\n",
    "                    \"properties\": {\n",
    "                        \"location\": {\n",
    "                            \"type\": \"string\",\n",
    "                            \"description\": \"The city and state, e.g. San Francisco, CA\",\n",
    "                        },\n",
    "                        \"unit\": {\"type\": \"string\", \"enum\": [\"celsius\", \"fahrenheit\"]},\n",
    "                    },\n",
    "                    \"required\": [\"location\"],\n",
    "                },\n",
    "            }\n",
    "        ],\n",
    "        function_call=\"auto\",\n",
    "    )\n",
    "\n",
    "    message = response[\"choices\"][0][\"message\"]\n",
    "\n",
    "    # Step 2, check if the model wants to call a function\n",
    "    if message.get(\"function_call\"):\n",
    "        function_name = message[\"function_call\"][\"name\"]\n",
    "\n",
    "        # Step 3, call the function\n",
    "        # Note: the JSON response from the model may not be valid JSON\n",
    "        function_response = get_current_weather(\n",
    "            location=message.get(\"location\"),\n",
    "            unit=message.get(\"unit\"),\n",
    "        )\n",
    "\n",
    "        # Step 4, send model the info on the function call and function response\n",
    "        second_response = openai.ChatCompletion.create(\n",
    "            model=\"gpt-3.5-turbo-0613\",\n",
    "            messages=[\n",
    "                {\"role\": \"user\", \"content\": \"What is the weather like in boston?\"},\n",
    "                message,\n",
    "                {\n",
    "                    \"role\": \"function\",\n",
    "                    \"name\": function_name,\n",
    "                    \"content\": function_response,\n",
    "                },\n",
    "            ],\n",
    "        )\n",
    "        return second_response\n",
    "\n",
    "print(run_conversation())"
   ]
  },
  {
   "cell_type": "code",
   "execution_count": 37,
   "metadata": {},
   "outputs": [],
   "source": [
    "response = openai.ChatCompletion.create(\n",
    "        model=\"gpt-3.5-turbo-0613\",\n",
    "        messages=[{\"role\": \"user\", \"content\": \"What's the weather like in Boston?\"}],\n",
    "        functions=[\n",
    "            {\n",
    "                \"name\": \"get_current_weather\",\n",
    "                \"description\": \"Get the current weather in a given location\",\n",
    "                \"parameters\": {\n",
    "                    \"type\": \"object\",\n",
    "                    \"properties\": {\n",
    "                        \"location\": {\n",
    "                            \"type\": \"string\",\n",
    "                            \"description\": \"The city and state, e.g. San Francisco, CA\",\n",
    "                        },\n",
    "                        \"unit\": {\"type\": \"string\", \"enum\": [\"celsius\", \"fahrenheit\"]},\n",
    "                    },\n",
    "                    \"required\": [\"location\"],\n",
    "                },\n",
    "            }\n",
    "        ],\n",
    "        function_call=\"auto\",\n",
    "    )"
   ]
  },
  {
   "cell_type": "code",
   "execution_count": 38,
   "metadata": {},
   "outputs": [
    {
     "data": {
      "text/plain": [
       "<OpenAIObject chat.completion id=chatcmpl-7R6FM0QbUSRH5oaKJCQO4xw7mQHpt at 0x7fe11fe79e50> JSON: {\n",
       "  \"id\": \"chatcmpl-7R6FM0QbUSRH5oaKJCQO4xw7mQHpt\",\n",
       "  \"object\": \"chat.completion\",\n",
       "  \"created\": 1686693224,\n",
       "  \"model\": \"gpt-3.5-turbo-0613\",\n",
       "  \"choices\": [\n",
       "    {\n",
       "      \"index\": 0,\n",
       "      \"message\": {\n",
       "        \"role\": \"assistant\",\n",
       "        \"content\": null,\n",
       "        \"function_call\": {\n",
       "          \"name\": \"get_current_weather\",\n",
       "          \"arguments\": \"{\\n  \\\"location\\\": \\\"Boston, MA\\\"\\n}\"\n",
       "        }\n",
       "      },\n",
       "      \"finish_reason\": \"function_call\"\n",
       "    }\n",
       "  ],\n",
       "  \"usage\": {\n",
       "    \"prompt_tokens\": 82,\n",
       "    \"completion_tokens\": 18,\n",
       "    \"total_tokens\": 100\n",
       "  }\n",
       "}"
      ]
     },
     "execution_count": 38,
     "metadata": {},
     "output_type": "execute_result"
    }
   ],
   "source": [
    "response"
   ]
  },
  {
   "attachments": {},
   "cell_type": "markdown",
   "metadata": {},
   "source": [
    "## My first implementation"
   ]
  },
  {
   "attachments": {},
   "cell_type": "markdown",
   "metadata": {},
   "source": [
    "My custom function"
   ]
  },
  {
   "cell_type": "code",
   "execution_count": 24,
   "metadata": {},
   "outputs": [],
   "source": [
    "from scipy.optimize import linprog\n",
    "\n",
    "def linear_optimization_simplex(c, A_ub, b_ub, A_eq=None, b_eq=None, bounds=None):\n",
    "    \"\"\"\n",
    "    Solves a linear programming optimization problem using the simplex algorithm.\n",
    "\n",
    "    Parameters:\n",
    "    c (list): The coefficients of the linear objective function to be minimized.\n",
    "    A_ub (list): The inequality constraint matrix. Each row represents a constraint.\n",
    "    b_ub (list): The inequality constraint vector. Each element represents the upper bound of the corresponding constraint.\n",
    "    A_eq (list, optional): The equality constraint matrix. Each row represents a constraint.\n",
    "    b_eq (list, optional): The equality constraint vector. Each element represents the required value of the corresponding constraint.\n",
    "    bounds (list, optional): A list of bounds for each variable in the form (min, max).\n",
    "\n",
    "    Returns:\n",
    "    dict: A dictionary containing the optimal solution, the minimized objective function value, and the status of the optimization.\n",
    "    \"\"\"\n",
    "    result = linprog(c, A_ub=A_ub, b_ub=b_ub, A_eq=A_eq, b_eq=b_eq, bounds=bounds, method='simplex')\n",
    "    \n",
    "    return {\n",
    "        'x': result.x,\n",
    "        'fun': result.fun,\n",
    "        'success': result.success,\n",
    "        'message': result.message\n",
    "    }"
   ]
  },
  {
   "cell_type": "code",
   "execution_count": 93,
   "metadata": {},
   "outputs": [],
   "source": [
    "\n",
    "response = openai.ChatCompletion.create(\n",
    "    model=\"gpt-3.5-turbo-0613\",\n",
    "    messages=[{\"role\": \"user\", \"content\": \"Solve the following linear programming problem using the simplex algorithm: Minimize the objective function -1x + 4y subject to the constraints -3x + y <= 6, x + 2y <= 4, and y >= -3.\"}],\n",
    "    functions=[\n",
    "        {\n",
    "            \"name\": \"linear_optimization_simplex\",\n",
    "            \"description\": \"Solves a linear programming optimization problem using the simplex algorithm.\",\n",
    "            \"parameters\": {\n",
    "                \"type\": \"object\",\n",
    "                \"properties\": {\n",
    "                    \"c\": {\n",
    "                        \"type\": \"string\",\n",
    "                        \"description\": \"The coefficients of the linear objective function to be minimized.\",\n",
    "                    },\n",
    "                    \"A_ub\": {\n",
    "                        \"type\": \"string\",\n",
    "                        \"description\": \"The inequality constraint matrix. Each row represents a constraint.\",\n",
    "                    },\n",
    "                    \"b_ub\": {\n",
    "                        \"type\": \"string\",\n",
    "                        \"description\": \"The inequality constraint vector. Each element represents the upper bound of the corresponding constraint.\",\n",
    "                    },\n",
    "                    \"A_eq\": {\n",
    "                        \"type\": \"string\",\n",
    "                        \"description\": \"The equality constraint matrix. Each row represents a constraint.\",\n",
    "                    },\n",
    "                    \"b_eq\": {\n",
    "                        \"type\": \"string\",\n",
    "                        \"description\": \"The equality constraint vector. Each element represents the required value of the corresponding constraint.\",\n",
    "                    },\n",
    "                    \"bounds\": {\n",
    "                        \"type\": \"string\",\n",
    "                        \"description\": \"A list of bounds for each variable in the form (min, max).\",\n",
    "                    },\n",
    "                },\n",
    "                \"required\": [\"c\", \"A_ub\", \"b_ub\"],\n",
    "            },\n",
    "        }\n",
    "    ],\n",
    "    function_call=\"auto\",\n",
    ")"
   ]
  },
  {
   "cell_type": "code",
   "execution_count": 44,
   "metadata": {},
   "outputs": [
    {
     "data": {
      "text/plain": [
       "<OpenAIObject chat.completion id=chatcmpl-7R6GZKdKM4jOwVTof95OdsfKqB8vA at 0x7fe11f704c70> JSON: {\n",
       "  \"id\": \"chatcmpl-7R6GZKdKM4jOwVTof95OdsfKqB8vA\",\n",
       "  \"object\": \"chat.completion\",\n",
       "  \"created\": 1686693299,\n",
       "  \"model\": \"gpt-3.5-turbo-0613\",\n",
       "  \"choices\": [\n",
       "    {\n",
       "      \"index\": 0,\n",
       "      \"message\": {\n",
       "        \"role\": \"assistant\",\n",
       "        \"content\": null,\n",
       "        \"function_call\": {\n",
       "          \"name\": \"linear_optimization_simplex\",\n",
       "          \"arguments\": \"{\\n  \\\"c\\\": \\\"-1 4\\\",\\n  \\\"A_ub\\\": \\\"-3 1 ; 1 2\\\",\\n  \\\"b_ub\\\": \\\"6 4\\\",\\n  \\\"A_eq\\\": \\\"0 1\\\",\\n  \\\"b_eq\\\": \\\"-3\\\"\\n}\"\n",
       "        }\n",
       "      },\n",
       "      \"finish_reason\": \"function_call\"\n",
       "    }\n",
       "  ],\n",
       "  \"usage\": {\n",
       "    \"prompt_tokens\": 216,\n",
       "    \"completion_tokens\": 63,\n",
       "    \"total_tokens\": 279\n",
       "  }\n",
       "}"
      ]
     },
     "execution_count": 44,
     "metadata": {},
     "output_type": "execute_result"
    }
   ],
   "source": [
    "response"
   ]
  },
  {
   "cell_type": "code",
   "execution_count": 45,
   "metadata": {},
   "outputs": [
    {
     "data": {
      "text/plain": [
       "<OpenAIObject at 0x7fe11fe799f0> JSON: {\n",
       "  \"role\": \"assistant\",\n",
       "  \"content\": null,\n",
       "  \"function_call\": {\n",
       "    \"name\": \"linear_optimization_simplex\",\n",
       "    \"arguments\": \"{\\n  \\\"c\\\": \\\"-1 4\\\",\\n  \\\"A_ub\\\": \\\"-3 1 ; 1 2\\\",\\n  \\\"b_ub\\\": \\\"6 4\\\",\\n  \\\"A_eq\\\": \\\"0 1\\\",\\n  \\\"b_eq\\\": \\\"-3\\\"\\n}\"\n",
       "  }\n",
       "}"
      ]
     },
     "execution_count": 45,
     "metadata": {},
     "output_type": "execute_result"
    }
   ],
   "source": [
    "message = response[\"choices\"][0][\"message\"]\n",
    "message"
   ]
  },
  {
   "cell_type": "code",
   "execution_count": 69,
   "metadata": {},
   "outputs": [],
   "source": [
    "def parse_json_object(json_object):\n",
    "    function_call = json_object[\"function_call\"]\n",
    "    arguments_str = function_call[\"arguments\"]\n",
    "    arguments = json.loads(arguments_str)\n",
    "    \n",
    "    c = np.fromstring(arguments.get(\"c\", \"\"), sep=\" \")\n",
    "    A_ub = np.vstack([np.fromstring(row, sep=\" \") for row in arguments.get(\"A_ub\", \"\").split(\";\")]) if arguments.get(\"A_ub\") else np.array([])\n",
    "    b_ub = np.fromstring(arguments.get(\"b_ub\", \"\"), sep=\" \")\n",
    "    A_eq = np.vstack([np.fromstring(row, sep=\" \") for row in arguments.get(\"A_eq\", \"\").split(\";\")]) if arguments.get(\"A_eq\") else np.array([])\n",
    "    b_eq = np.fromstring(arguments.get(\"b_eq\", \"\"), sep=\" \")\n",
    "    bounds = [tuple(map(float, bound.split(\",\"))) for bound in arguments.get(\"bounds\", \"\").split(\";\")] if arguments.get(\"bounds\") else None\n",
    "    \n",
    "    return c, A_ub, b_ub, A_eq, b_eq, bounds"
   ]
  },
  {
   "cell_type": "code",
   "execution_count": 62,
   "metadata": {},
   "outputs": [
    {
     "name": "stdout",
     "output_type": "stream",
     "text": [
      "c: [-1.  4.]\n",
      "A_ub: [[-3.  1.]\n",
      " [ 1.  2.]]\n",
      "b_ub: [6. 4.]\n",
      "A_eq: [[0. 1.]]\n",
      "b_eq: [-3.]\n",
      "{'x': array([0., 0.]), 'fun': 0.0, 'success': False, 'message': 'The problem is (trivially) infeasible because a singleton row in the equality constraints is inconsistent with the bounds.'}\n"
     ]
    },
    {
     "name": "stderr",
     "output_type": "stream",
     "text": [
      "/var/folders/6t/m1cj5jqd1cx9xq5bxs_h3g200000gn/T/ipykernel_28558/3480648203.py:18: DeprecationWarning: `method='simplex'` is deprecated and will be removed in SciPy 1.11.0. Please use one of the HiGHS solvers (e.g. `method='highs'`) in new code.\n",
      "  result = linprog(c, A_ub=A_ub, b_ub=b_ub, A_eq=A_eq, b_eq=b_eq, bounds=bounds, method='simplex')\n"
     ]
    },
    {
     "name": "stdout",
     "output_type": "stream",
     "text": [
      "{\n",
      "  \"id\": \"chatcmpl-7R6Upw7OOZ7WIZob1On5mMu4SUj6n\",\n",
      "  \"object\": \"chat.completion\",\n",
      "  \"created\": 1686694183,\n",
      "  \"model\": \"gpt-3.5-turbo-0613\",\n",
      "  \"choices\": [\n",
      "    {\n",
      "      \"index\": 0,\n",
      "      \"message\": {\n",
      "        \"role\": \"assistant\",\n",
      "        \"content\": \"The linear programming problem is infeasible because a singleton row in the equality constraints is inconsistent with the bounds.\"\n",
      "      },\n",
      "      \"finish_reason\": \"stop\"\n",
      "    }\n",
      "  ],\n",
      "  \"usage\": {\n",
      "    \"prompt_tokens\": 188,\n",
      "    \"completion_tokens\": 22,\n",
      "    \"total_tokens\": 210\n",
      "  }\n",
      "}\n"
     ]
    }
   ],
   "source": [
    "\n",
    "if message.get(\"function_call\"):\n",
    "    function_name = message[\"function_call\"][\"name\"]\n",
    "    # Parse the arguments\n",
    "    c, A_ub, b_ub, A_eq, b_eq = parse_json_object(message)\n",
    "    print(\"c:\", c)\n",
    "    print(\"A_ub:\", A_ub)\n",
    "    print(\"b_ub:\", b_ub)\n",
    "    print(\"A_eq:\", A_eq)\n",
    "    print(\"b_eq:\", b_eq)\n",
    "    # Call the linear_optimization_simplex function with the parsed arguments\n",
    "    function_response = linear_optimization_simplex(c, A_ub, b_ub, A_eq, b_eq)\n",
    "    print(function_response)\n",
    "\n",
    "    second_response = openai.ChatCompletion.create(\n",
    "        model=\"gpt-3.5-turbo-0613\",\n",
    "        messages=[\n",
    "            {\"role\": \"user\", \"content\": \"Solve the following linear programming problem using the simplex algorithm: Minimize the objective function -1x + 4y subject to the constraints -3x + y <= 6, x + 2y <= 4, and y >= -3.\"},\n",
    "            message,\n",
    "            {\n",
    "                \"role\": \"function\",\n",
    "                \"name\": function_name,\n",
    "                \"content\": json.dumps(str(function_response))\n",
    "            },\n",
    "        ],\n",
    "    )\n",
    "\n",
    "    print(second_response)"
   ]
  },
  {
   "cell_type": "code",
   "execution_count": 91,
   "metadata": {},
   "outputs": [],
   "source": [
    "def run_chat(prompt):\n",
    "    response = openai.ChatCompletion.create(\n",
    "        model=\"gpt-3.5-turbo-0613\",\n",
    "        messages=[{\"role\": \"user\", \"content\": prompt}],\n",
    "        functions=[\n",
    "            {\n",
    "                \"name\": \"linear_optimization_simplex\",\n",
    "                \"description\": \"Solves a linear programming optimization problem using the simplex algorithm.\",\n",
    "                \"parameters\": {\n",
    "                    \"type\": \"object\",\n",
    "                    \"properties\": {\n",
    "                        \"c\": {\n",
    "                            \"type\": \"AnyOf\",\n",
    "                            \"description\": \"The coefficients of the linear objective function to be minimized.\",\n",
    "                        },\n",
    "                        \"A_ub\": {\n",
    "                            \"type\": \"string\",\n",
    "                            \"description\": \"The inequality constraint matrix. Each row represents a constraint.\",\n",
    "                        },\n",
    "                        \"b_ub\": {\n",
    "                            \"type\": \"string\",\n",
    "                            \"description\": \"The inequality constraint vector. Each element represents the upper bound of the corresponding constraint.\",\n",
    "                        },\n",
    "                        \"A_eq\": {\n",
    "                            \"type\": \"string\",\n",
    "                            \"description\": \"The equality constraint matrix. Each row represents a constraint.\",\n",
    "                        },\n",
    "                        \"b_eq\": {\n",
    "                            \"type\": \"string\",\n",
    "                            \"description\": \"The equality constraint vector. Each element represents the required value of the corresponding constraint.\",\n",
    "                        },\n",
    "                        \"bounds\": {\n",
    "                            \"type\": \"string\",\n",
    "                            \"description\": \"A list of bounds for each variable in the form (min, max).\",\n",
    "                        },\n",
    "                    },\n",
    "                    \"required\": [\"c\", \"A_ub\", \"b_ub\"],\n",
    "                },\n",
    "            }\n",
    "        ],\n",
    "        function_call=\"auto\",\n",
    "    )\n",
    "\n",
    "    message = response[\"choices\"][0][\"message\"]\n",
    "    print(\"MESSAGE 1\", message)\n",
    "\n",
    "    if message.get(\"function_call\"):\n",
    "        function_name = message[\"function_call\"][\"name\"]\n",
    "        arg_dict = json.loads(message[\"function_call\"][\"arguments\"])\n",
    "\n",
    "        validated_args = {\n",
    "            \"c\": np.array(f\"[{arg_dict.get('c', '')}]\"),\n",
    "            \"A_ub\": np.array(f\"[{arg_dict.get('A_ub', '')}]\"),\n",
    "            \"b_ub\": np.array(f\"[{arg_dict.get('b_ub', '')}]\"),\n",
    "            \"A_eq\": np.array(f\"[{arg_dict.get('A_eq', '')}]\") if arg_dict.get(\"A_eq\") else None,\n",
    "            \"b_eq\": np.array(f\"[{arg_dict.get('b_eq', '')}]\") if arg_dict.get(\"b_eq\") else None,\n",
    "            \"bounds\": np.array(f\"[{arg_dict.get('bounds', '')}]\") if arg_dict.get(\"bounds\") else None,\n",
    "        }\n",
    "        \n",
    "        function_response = linear_optimization_simplex(**validated_args)\n",
    "        print(function_response)\n",
    "\n",
    "        second_response = openai.ChatCompletion.create(\n",
    "            model=\"gpt-3.5-turbo-0613\",\n",
    "            messages=[\n",
    "                {\"role\": \"user\", \"content\": \"Solve the following linear programming problem using the simplex algorithm: Minimize the objective function -1x + 4y subject to the constraints -3x + y <= 6, x + 2y <= 4, and y >= -3.\"},\n",
    "                message,\n",
    "                {\n",
    "                    \"role\": \"function\",\n",
    "                    \"name\": function_name,\n",
    "                    \"content\": json.dumps(str(function_response))\n",
    "                },\n",
    "            ],\n",
    "        )\n",
    "\n",
    "        return second_response"
   ]
  },
  {
   "cell_type": "code",
   "execution_count": 64,
   "metadata": {},
   "outputs": [],
   "source": [
    "test_problem = \"A factory produces two types of products, A and B. Each unit of product A requires 2 hours of labor and 3 hours of machine time, while each unit of product B requires 4 hours of labor and 1 hour of machine time. The factory has a maximum of 40 hours of labor and 30 hours of machine time available per day. The profit per unit of product A is $5, and the profit per unit of product B is $4. How many units of each product should the factory produce to maximize its profit?\""
   ]
  },
  {
   "cell_type": "code",
   "execution_count": 92,
   "metadata": {},
   "outputs": [
    {
     "ename": "InvalidRequestError",
     "evalue": "Invalid schema for function 'linear_optimization_simplex': 'AnyOf' is not valid under any of the given schemas",
     "output_type": "error",
     "traceback": [
      "\u001b[0;31m---------------------------------------------------------------------------\u001b[0m",
      "\u001b[0;31mInvalidRequestError\u001b[0m                       Traceback (most recent call last)",
      "Cell \u001b[0;32mIn[92], line 1\u001b[0m\n\u001b[0;32m----> 1\u001b[0m res \u001b[39m=\u001b[39m run_chat(test_problem)\n",
      "Cell \u001b[0;32mIn[91], line 2\u001b[0m, in \u001b[0;36mrun_chat\u001b[0;34m(prompt)\u001b[0m\n\u001b[1;32m      1\u001b[0m \u001b[39mdef\u001b[39;00m \u001b[39mrun_chat\u001b[39m(prompt):\n\u001b[0;32m----> 2\u001b[0m     response \u001b[39m=\u001b[39m openai\u001b[39m.\u001b[39;49mChatCompletion\u001b[39m.\u001b[39;49mcreate(\n\u001b[1;32m      3\u001b[0m         model\u001b[39m=\u001b[39;49m\u001b[39m\"\u001b[39;49m\u001b[39mgpt-3.5-turbo-0613\u001b[39;49m\u001b[39m\"\u001b[39;49m,\n\u001b[1;32m      4\u001b[0m         messages\u001b[39m=\u001b[39;49m[{\u001b[39m\"\u001b[39;49m\u001b[39mrole\u001b[39;49m\u001b[39m\"\u001b[39;49m: \u001b[39m\"\u001b[39;49m\u001b[39muser\u001b[39;49m\u001b[39m\"\u001b[39;49m, \u001b[39m\"\u001b[39;49m\u001b[39mcontent\u001b[39;49m\u001b[39m\"\u001b[39;49m: prompt}],\n\u001b[1;32m      5\u001b[0m         functions\u001b[39m=\u001b[39;49m[\n\u001b[1;32m      6\u001b[0m             {\n\u001b[1;32m      7\u001b[0m                 \u001b[39m\"\u001b[39;49m\u001b[39mname\u001b[39;49m\u001b[39m\"\u001b[39;49m: \u001b[39m\"\u001b[39;49m\u001b[39mlinear_optimization_simplex\u001b[39;49m\u001b[39m\"\u001b[39;49m,\n\u001b[1;32m      8\u001b[0m                 \u001b[39m\"\u001b[39;49m\u001b[39mdescription\u001b[39;49m\u001b[39m\"\u001b[39;49m: \u001b[39m\"\u001b[39;49m\u001b[39mSolves a linear programming optimization problem using the simplex algorithm.\u001b[39;49m\u001b[39m\"\u001b[39;49m,\n\u001b[1;32m      9\u001b[0m                 \u001b[39m\"\u001b[39;49m\u001b[39mparameters\u001b[39;49m\u001b[39m\"\u001b[39;49m: {\n\u001b[1;32m     10\u001b[0m                     \u001b[39m\"\u001b[39;49m\u001b[39mtype\u001b[39;49m\u001b[39m\"\u001b[39;49m: \u001b[39m\"\u001b[39;49m\u001b[39mobject\u001b[39;49m\u001b[39m\"\u001b[39;49m,\n\u001b[1;32m     11\u001b[0m                     \u001b[39m\"\u001b[39;49m\u001b[39mproperties\u001b[39;49m\u001b[39m\"\u001b[39;49m: {\n\u001b[1;32m     12\u001b[0m                         \u001b[39m\"\u001b[39;49m\u001b[39mc\u001b[39;49m\u001b[39m\"\u001b[39;49m: {\n\u001b[1;32m     13\u001b[0m                             \u001b[39m\"\u001b[39;49m\u001b[39mtype\u001b[39;49m\u001b[39m\"\u001b[39;49m: \u001b[39m\"\u001b[39;49m\u001b[39mAnyOf\u001b[39;49m\u001b[39m\"\u001b[39;49m,\n\u001b[1;32m     14\u001b[0m                             \u001b[39m\"\u001b[39;49m\u001b[39mdescription\u001b[39;49m\u001b[39m\"\u001b[39;49m: \u001b[39m\"\u001b[39;49m\u001b[39mThe coefficients of the linear objective function to be minimized.\u001b[39;49m\u001b[39m\"\u001b[39;49m,\n\u001b[1;32m     15\u001b[0m                         },\n\u001b[1;32m     16\u001b[0m                         \u001b[39m\"\u001b[39;49m\u001b[39mA_ub\u001b[39;49m\u001b[39m\"\u001b[39;49m: {\n\u001b[1;32m     17\u001b[0m                             \u001b[39m\"\u001b[39;49m\u001b[39mtype\u001b[39;49m\u001b[39m\"\u001b[39;49m: \u001b[39m\"\u001b[39;49m\u001b[39mstring\u001b[39;49m\u001b[39m\"\u001b[39;49m,\n\u001b[1;32m     18\u001b[0m                             \u001b[39m\"\u001b[39;49m\u001b[39mdescription\u001b[39;49m\u001b[39m\"\u001b[39;49m: \u001b[39m\"\u001b[39;49m\u001b[39mThe inequality constraint matrix. Each row represents a constraint.\u001b[39;49m\u001b[39m\"\u001b[39;49m,\n\u001b[1;32m     19\u001b[0m                         },\n\u001b[1;32m     20\u001b[0m                         \u001b[39m\"\u001b[39;49m\u001b[39mb_ub\u001b[39;49m\u001b[39m\"\u001b[39;49m: {\n\u001b[1;32m     21\u001b[0m                             \u001b[39m\"\u001b[39;49m\u001b[39mtype\u001b[39;49m\u001b[39m\"\u001b[39;49m: \u001b[39m\"\u001b[39;49m\u001b[39mstring\u001b[39;49m\u001b[39m\"\u001b[39;49m,\n\u001b[1;32m     22\u001b[0m                             \u001b[39m\"\u001b[39;49m\u001b[39mdescription\u001b[39;49m\u001b[39m\"\u001b[39;49m: \u001b[39m\"\u001b[39;49m\u001b[39mThe inequality constraint vector. Each element represents the upper bound of the corresponding constraint.\u001b[39;49m\u001b[39m\"\u001b[39;49m,\n\u001b[1;32m     23\u001b[0m                         },\n\u001b[1;32m     24\u001b[0m                         \u001b[39m\"\u001b[39;49m\u001b[39mA_eq\u001b[39;49m\u001b[39m\"\u001b[39;49m: {\n\u001b[1;32m     25\u001b[0m                             \u001b[39m\"\u001b[39;49m\u001b[39mtype\u001b[39;49m\u001b[39m\"\u001b[39;49m: \u001b[39m\"\u001b[39;49m\u001b[39mstring\u001b[39;49m\u001b[39m\"\u001b[39;49m,\n\u001b[1;32m     26\u001b[0m                             \u001b[39m\"\u001b[39;49m\u001b[39mdescription\u001b[39;49m\u001b[39m\"\u001b[39;49m: \u001b[39m\"\u001b[39;49m\u001b[39mThe equality constraint matrix. Each row represents a constraint.\u001b[39;49m\u001b[39m\"\u001b[39;49m,\n\u001b[1;32m     27\u001b[0m                         },\n\u001b[1;32m     28\u001b[0m                         \u001b[39m\"\u001b[39;49m\u001b[39mb_eq\u001b[39;49m\u001b[39m\"\u001b[39;49m: {\n\u001b[1;32m     29\u001b[0m                             \u001b[39m\"\u001b[39;49m\u001b[39mtype\u001b[39;49m\u001b[39m\"\u001b[39;49m: \u001b[39m\"\u001b[39;49m\u001b[39mstring\u001b[39;49m\u001b[39m\"\u001b[39;49m,\n\u001b[1;32m     30\u001b[0m                             \u001b[39m\"\u001b[39;49m\u001b[39mdescription\u001b[39;49m\u001b[39m\"\u001b[39;49m: \u001b[39m\"\u001b[39;49m\u001b[39mThe equality constraint vector. Each element represents the required value of the corresponding constraint.\u001b[39;49m\u001b[39m\"\u001b[39;49m,\n\u001b[1;32m     31\u001b[0m                         },\n\u001b[1;32m     32\u001b[0m                         \u001b[39m\"\u001b[39;49m\u001b[39mbounds\u001b[39;49m\u001b[39m\"\u001b[39;49m: {\n\u001b[1;32m     33\u001b[0m                             \u001b[39m\"\u001b[39;49m\u001b[39mtype\u001b[39;49m\u001b[39m\"\u001b[39;49m: \u001b[39m\"\u001b[39;49m\u001b[39mstring\u001b[39;49m\u001b[39m\"\u001b[39;49m,\n\u001b[1;32m     34\u001b[0m                             \u001b[39m\"\u001b[39;49m\u001b[39mdescription\u001b[39;49m\u001b[39m\"\u001b[39;49m: \u001b[39m\"\u001b[39;49m\u001b[39mA list of bounds for each variable in the form (min, max).\u001b[39;49m\u001b[39m\"\u001b[39;49m,\n\u001b[1;32m     35\u001b[0m                         },\n\u001b[1;32m     36\u001b[0m                     },\n\u001b[1;32m     37\u001b[0m                     \u001b[39m\"\u001b[39;49m\u001b[39mrequired\u001b[39;49m\u001b[39m\"\u001b[39;49m: [\u001b[39m\"\u001b[39;49m\u001b[39mc\u001b[39;49m\u001b[39m\"\u001b[39;49m, \u001b[39m\"\u001b[39;49m\u001b[39mA_ub\u001b[39;49m\u001b[39m\"\u001b[39;49m, \u001b[39m\"\u001b[39;49m\u001b[39mb_ub\u001b[39;49m\u001b[39m\"\u001b[39;49m],\n\u001b[1;32m     38\u001b[0m                 },\n\u001b[1;32m     39\u001b[0m             }\n\u001b[1;32m     40\u001b[0m         ],\n\u001b[1;32m     41\u001b[0m         function_call\u001b[39m=\u001b[39;49m\u001b[39m\"\u001b[39;49m\u001b[39mauto\u001b[39;49m\u001b[39m\"\u001b[39;49m,\n\u001b[1;32m     42\u001b[0m     )\n\u001b[1;32m     44\u001b[0m     message \u001b[39m=\u001b[39m response[\u001b[39m\"\u001b[39m\u001b[39mchoices\u001b[39m\u001b[39m\"\u001b[39m][\u001b[39m0\u001b[39m][\u001b[39m\"\u001b[39m\u001b[39mmessage\u001b[39m\u001b[39m\"\u001b[39m]\n\u001b[1;32m     45\u001b[0m     \u001b[39mprint\u001b[39m(\u001b[39m\"\u001b[39m\u001b[39mMESSAGE 1\u001b[39m\u001b[39m\"\u001b[39m, message)\n",
      "File \u001b[0;32m~/Documents/Coding/benlp_v1/venv/lib/python3.9/site-packages/openai/api_resources/chat_completion.py:25\u001b[0m, in \u001b[0;36mChatCompletion.create\u001b[0;34m(cls, *args, **kwargs)\u001b[0m\n\u001b[1;32m     23\u001b[0m \u001b[39mwhile\u001b[39;00m \u001b[39mTrue\u001b[39;00m:\n\u001b[1;32m     24\u001b[0m     \u001b[39mtry\u001b[39;00m:\n\u001b[0;32m---> 25\u001b[0m         \u001b[39mreturn\u001b[39;00m \u001b[39msuper\u001b[39;49m()\u001b[39m.\u001b[39;49mcreate(\u001b[39m*\u001b[39;49margs, \u001b[39m*\u001b[39;49m\u001b[39m*\u001b[39;49mkwargs)\n\u001b[1;32m     26\u001b[0m     \u001b[39mexcept\u001b[39;00m TryAgain \u001b[39mas\u001b[39;00m e:\n\u001b[1;32m     27\u001b[0m         \u001b[39mif\u001b[39;00m timeout \u001b[39mis\u001b[39;00m \u001b[39mnot\u001b[39;00m \u001b[39mNone\u001b[39;00m \u001b[39mand\u001b[39;00m time\u001b[39m.\u001b[39mtime() \u001b[39m>\u001b[39m start \u001b[39m+\u001b[39m timeout:\n",
      "File \u001b[0;32m~/Documents/Coding/benlp_v1/venv/lib/python3.9/site-packages/openai/api_resources/abstract/engine_api_resource.py:153\u001b[0m, in \u001b[0;36mEngineAPIResource.create\u001b[0;34m(cls, api_key, api_base, api_type, request_id, api_version, organization, **params)\u001b[0m\n\u001b[1;32m    127\u001b[0m \u001b[39m@classmethod\u001b[39m\n\u001b[1;32m    128\u001b[0m \u001b[39mdef\u001b[39;00m \u001b[39mcreate\u001b[39m(\n\u001b[1;32m    129\u001b[0m     \u001b[39mcls\u001b[39m,\n\u001b[0;32m   (...)\u001b[0m\n\u001b[1;32m    136\u001b[0m     \u001b[39m*\u001b[39m\u001b[39m*\u001b[39mparams,\n\u001b[1;32m    137\u001b[0m ):\n\u001b[1;32m    138\u001b[0m     (\n\u001b[1;32m    139\u001b[0m         deployment_id,\n\u001b[1;32m    140\u001b[0m         engine,\n\u001b[0;32m   (...)\u001b[0m\n\u001b[1;32m    150\u001b[0m         api_key, api_base, api_type, api_version, organization, \u001b[39m*\u001b[39m\u001b[39m*\u001b[39mparams\n\u001b[1;32m    151\u001b[0m     )\n\u001b[0;32m--> 153\u001b[0m     response, _, api_key \u001b[39m=\u001b[39m requestor\u001b[39m.\u001b[39;49mrequest(\n\u001b[1;32m    154\u001b[0m         \u001b[39m\"\u001b[39;49m\u001b[39mpost\u001b[39;49m\u001b[39m\"\u001b[39;49m,\n\u001b[1;32m    155\u001b[0m         url,\n\u001b[1;32m    156\u001b[0m         params\u001b[39m=\u001b[39;49mparams,\n\u001b[1;32m    157\u001b[0m         headers\u001b[39m=\u001b[39;49mheaders,\n\u001b[1;32m    158\u001b[0m         stream\u001b[39m=\u001b[39;49mstream,\n\u001b[1;32m    159\u001b[0m         request_id\u001b[39m=\u001b[39;49mrequest_id,\n\u001b[1;32m    160\u001b[0m         request_timeout\u001b[39m=\u001b[39;49mrequest_timeout,\n\u001b[1;32m    161\u001b[0m     )\n\u001b[1;32m    163\u001b[0m     \u001b[39mif\u001b[39;00m stream:\n\u001b[1;32m    164\u001b[0m         \u001b[39m# must be an iterator\u001b[39;00m\n\u001b[1;32m    165\u001b[0m         \u001b[39massert\u001b[39;00m \u001b[39mnot\u001b[39;00m \u001b[39misinstance\u001b[39m(response, OpenAIResponse)\n",
      "File \u001b[0;32m~/Documents/Coding/benlp_v1/venv/lib/python3.9/site-packages/openai/api_requestor.py:298\u001b[0m, in \u001b[0;36mAPIRequestor.request\u001b[0;34m(self, method, url, params, headers, files, stream, request_id, request_timeout)\u001b[0m\n\u001b[1;32m    277\u001b[0m \u001b[39mdef\u001b[39;00m \u001b[39mrequest\u001b[39m(\n\u001b[1;32m    278\u001b[0m     \u001b[39mself\u001b[39m,\n\u001b[1;32m    279\u001b[0m     method,\n\u001b[0;32m   (...)\u001b[0m\n\u001b[1;32m    286\u001b[0m     request_timeout: Optional[Union[\u001b[39mfloat\u001b[39m, Tuple[\u001b[39mfloat\u001b[39m, \u001b[39mfloat\u001b[39m]]] \u001b[39m=\u001b[39m \u001b[39mNone\u001b[39;00m,\n\u001b[1;32m    287\u001b[0m ) \u001b[39m-\u001b[39m\u001b[39m>\u001b[39m Tuple[Union[OpenAIResponse, Iterator[OpenAIResponse]], \u001b[39mbool\u001b[39m, \u001b[39mstr\u001b[39m]:\n\u001b[1;32m    288\u001b[0m     result \u001b[39m=\u001b[39m \u001b[39mself\u001b[39m\u001b[39m.\u001b[39mrequest_raw(\n\u001b[1;32m    289\u001b[0m         method\u001b[39m.\u001b[39mlower(),\n\u001b[1;32m    290\u001b[0m         url,\n\u001b[0;32m   (...)\u001b[0m\n\u001b[1;32m    296\u001b[0m         request_timeout\u001b[39m=\u001b[39mrequest_timeout,\n\u001b[1;32m    297\u001b[0m     )\n\u001b[0;32m--> 298\u001b[0m     resp, got_stream \u001b[39m=\u001b[39m \u001b[39mself\u001b[39;49m\u001b[39m.\u001b[39;49m_interpret_response(result, stream)\n\u001b[1;32m    299\u001b[0m     \u001b[39mreturn\u001b[39;00m resp, got_stream, \u001b[39mself\u001b[39m\u001b[39m.\u001b[39mapi_key\n",
      "File \u001b[0;32m~/Documents/Coding/benlp_v1/venv/lib/python3.9/site-packages/openai/api_requestor.py:700\u001b[0m, in \u001b[0;36mAPIRequestor._interpret_response\u001b[0;34m(self, result, stream)\u001b[0m\n\u001b[1;32m    692\u001b[0m     \u001b[39mreturn\u001b[39;00m (\n\u001b[1;32m    693\u001b[0m         \u001b[39mself\u001b[39m\u001b[39m.\u001b[39m_interpret_response_line(\n\u001b[1;32m    694\u001b[0m             line, result\u001b[39m.\u001b[39mstatus_code, result\u001b[39m.\u001b[39mheaders, stream\u001b[39m=\u001b[39m\u001b[39mTrue\u001b[39;00m\n\u001b[1;32m    695\u001b[0m         )\n\u001b[1;32m    696\u001b[0m         \u001b[39mfor\u001b[39;00m line \u001b[39min\u001b[39;00m parse_stream(result\u001b[39m.\u001b[39miter_lines())\n\u001b[1;32m    697\u001b[0m     ), \u001b[39mTrue\u001b[39;00m\n\u001b[1;32m    698\u001b[0m \u001b[39melse\u001b[39;00m:\n\u001b[1;32m    699\u001b[0m     \u001b[39mreturn\u001b[39;00m (\n\u001b[0;32m--> 700\u001b[0m         \u001b[39mself\u001b[39;49m\u001b[39m.\u001b[39;49m_interpret_response_line(\n\u001b[1;32m    701\u001b[0m             result\u001b[39m.\u001b[39;49mcontent\u001b[39m.\u001b[39;49mdecode(\u001b[39m\"\u001b[39;49m\u001b[39mutf-8\u001b[39;49m\u001b[39m\"\u001b[39;49m),\n\u001b[1;32m    702\u001b[0m             result\u001b[39m.\u001b[39;49mstatus_code,\n\u001b[1;32m    703\u001b[0m             result\u001b[39m.\u001b[39;49mheaders,\n\u001b[1;32m    704\u001b[0m             stream\u001b[39m=\u001b[39;49m\u001b[39mFalse\u001b[39;49;00m,\n\u001b[1;32m    705\u001b[0m         ),\n\u001b[1;32m    706\u001b[0m         \u001b[39mFalse\u001b[39;00m,\n\u001b[1;32m    707\u001b[0m     )\n",
      "File \u001b[0;32m~/Documents/Coding/benlp_v1/venv/lib/python3.9/site-packages/openai/api_requestor.py:763\u001b[0m, in \u001b[0;36mAPIRequestor._interpret_response_line\u001b[0;34m(self, rbody, rcode, rheaders, stream)\u001b[0m\n\u001b[1;32m    761\u001b[0m stream_error \u001b[39m=\u001b[39m stream \u001b[39mand\u001b[39;00m \u001b[39m\"\u001b[39m\u001b[39merror\u001b[39m\u001b[39m\"\u001b[39m \u001b[39min\u001b[39;00m resp\u001b[39m.\u001b[39mdata\n\u001b[1;32m    762\u001b[0m \u001b[39mif\u001b[39;00m stream_error \u001b[39mor\u001b[39;00m \u001b[39mnot\u001b[39;00m \u001b[39m200\u001b[39m \u001b[39m<\u001b[39m\u001b[39m=\u001b[39m rcode \u001b[39m<\u001b[39m \u001b[39m300\u001b[39m:\n\u001b[0;32m--> 763\u001b[0m     \u001b[39mraise\u001b[39;00m \u001b[39mself\u001b[39m\u001b[39m.\u001b[39mhandle_error_response(\n\u001b[1;32m    764\u001b[0m         rbody, rcode, resp\u001b[39m.\u001b[39mdata, rheaders, stream_error\u001b[39m=\u001b[39mstream_error\n\u001b[1;32m    765\u001b[0m     )\n\u001b[1;32m    766\u001b[0m \u001b[39mreturn\u001b[39;00m resp\n",
      "\u001b[0;31mInvalidRequestError\u001b[0m: Invalid schema for function 'linear_optimization_simplex': 'AnyOf' is not valid under any of the given schemas"
     ]
    }
   ],
   "source": [
    "res = run_chat(test_problem)"
   ]
  }
 ],
 "metadata": {
  "kernelspec": {
   "display_name": "venv",
   "language": "python",
   "name": "python3"
  },
  "language_info": {
   "codemirror_mode": {
    "name": "ipython",
    "version": 3
   },
   "file_extension": ".py",
   "mimetype": "text/x-python",
   "name": "python",
   "nbconvert_exporter": "python",
   "pygments_lexer": "ipython3",
   "version": "3.9.7"
  },
  "orig_nbformat": 4
 },
 "nbformat": 4,
 "nbformat_minor": 2
}
