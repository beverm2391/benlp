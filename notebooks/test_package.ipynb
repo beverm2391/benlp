{
 "cells": [
  {
   "cell_type": "code",
   "execution_count": 1,
   "metadata": {},
   "outputs": [],
   "source": [
    "from benlp.agent import BaseAgent"
   ]
  },
  {
   "cell_type": "code",
   "execution_count": 2,
   "metadata": {},
   "outputs": [
    {
     "name": "stdout",
     "output_type": "stream",
     "text": [
      "Empty Index initialized.\n"
     ]
    }
   ],
   "source": [
    "agent = BaseAgent(objective=\"Make an award winning sandwich\", config=None, index_path=None)"
   ]
  },
  {
   "cell_type": "code",
   "execution_count": 3,
   "metadata": {},
   "outputs": [
    {
     "name": "stdout",
     "output_type": "stream",
     "text": [
      "Task List:\n",
      "\n",
      "[\n",
      "    {\n",
      "        \"name\": \"Choose bread\",\n",
      "        \"instruction\": \"Select the bread for your sandwich.\",\n",
      "        \"tools_needed\": \"None\"\n",
      "    },\n",
      "    {\n",
      "        \"name\": \"Choose meat\",\n",
      "        \"instruction\": \"Select the meat for your sandwich.\",\n",
      "        \"tools_needed\": \"None\"\n",
      "    },\n",
      "    {\n",
      "        \"name\": \"Choose cheese\",\n",
      "        \"instruction\": \"Select the cheese for your sandwich.\",\n",
      "        \"tools_needed\": \"None\"\n",
      "    },\n",
      "    {\n",
      "        \"name\": \"Choose veggies\",\n",
      "        \"instruction\": \"Select the vegetables for your sandwich.\",\n",
      "        \"tools_needed\": \"None\"\n",
      "    },\n",
      "    {\n",
      "        \"name\": \"Choose sauce\",\n",
      "        \"instruction\": \"Select the sauce for your sandwich.\",\n",
      "        \"tools_needed\": \"None\"\n",
      "    },\n",
      "    {\n",
      "        \"name\": \"Slice bread\",\n",
      "        \"instruction\": \"Slice the bread for your sandwich.\",\n",
      "        \"tools_needed\": \"Knife\"\n",
      "    },\n",
      "    {\n",
      "        \"name\": \"Cook meat\",\n",
      "        \"instruction\": \"Cook the meat for your sandwich.\",\n",
      "        \"tools_needed\": \"Pan\"\n",
      "    },\n",
      "    {\n",
      "        \"name\": \"Grill sandwich\",\n",
      "        \"instruction\": \"Grill the sandwich until the cheese is melted.\",\n",
      "        \"tools_needed\": \"Panini press\"\n",
      "    },\n",
      "    {\n",
      "        \"name\": \"Assemble sandwich\",\n",
      "        \"instruction\": \"Put all the ingredients together.\",\n",
      "        \"tools_needed\": \"None\"\n",
      "    }\n",
      "]\n"
     ]
    }
   ],
   "source": [
    "agent.generate_tasks()"
   ]
  },
  {
   "cell_type": "code",
   "execution_count": 4,
   "metadata": {},
   "outputs": [
    {
     "data": {
      "text/plain": [
       "[{'name': 'Choose bread',\n",
       "  'instruction': 'Select the bread for your sandwich.',\n",
       "  'tools_needed': 'None'},\n",
       " {'name': 'Choose meat',\n",
       "  'instruction': 'Select the meat for your sandwich.',\n",
       "  'tools_needed': 'None'},\n",
       " {'name': 'Choose cheese',\n",
       "  'instruction': 'Select the cheese for your sandwich.',\n",
       "  'tools_needed': 'None'},\n",
       " {'name': 'Choose veggies',\n",
       "  'instruction': 'Select the vegetables for your sandwich.',\n",
       "  'tools_needed': 'None'},\n",
       " {'name': 'Choose sauce',\n",
       "  'instruction': 'Select the sauce for your sandwich.',\n",
       "  'tools_needed': 'None'},\n",
       " {'name': 'Slice bread',\n",
       "  'instruction': 'Slice the bread for your sandwich.',\n",
       "  'tools_needed': 'Knife'},\n",
       " {'name': 'Cook meat',\n",
       "  'instruction': 'Cook the meat for your sandwich.',\n",
       "  'tools_needed': 'Pan'},\n",
       " {'name': 'Grill sandwich',\n",
       "  'instruction': 'Grill the sandwich until the cheese is melted.',\n",
       "  'tools_needed': 'Panini press'},\n",
       " {'name': 'Assemble sandwich',\n",
       "  'instruction': 'Put all the ingredients together.',\n",
       "  'tools_needed': 'None'}]"
      ]
     },
     "execution_count": 4,
     "metadata": {},
     "output_type": "execute_result"
    }
   ],
   "source": [
    "agent.task_list"
   ]
  }
 ],
 "metadata": {
  "kernelspec": {
   "display_name": "venv",
   "language": "python",
   "name": "python3"
  },
  "language_info": {
   "codemirror_mode": {
    "name": "ipython",
    "version": 3
   },
   "file_extension": ".py",
   "mimetype": "text/x-python",
   "name": "python",
   "nbconvert_exporter": "python",
   "pygments_lexer": "ipython3",
   "version": "3.9.7"
  },
  "orig_nbformat": 4
 },
 "nbformat": 4,
 "nbformat_minor": 2
}
