{
 "cells": [
  {
   "cell_type": "code",
   "execution_count": 14,
   "metadata": {},
   "outputs": [],
   "source": [
    "import json\n",
    "from functools import wraps\n",
    "from typing import Any, Callable\n",
    "from pydantic import validate_arguments, BaseModel\n",
    "import openai\n",
    "from dotenv import load_dotenv\n",
    "import os\n",
    "import io\n",
    "import contextlib"
   ]
  },
  {
   "cell_type": "code",
   "execution_count": 12,
   "metadata": {},
   "outputs": [],
   "source": [
    "load_dotenv(\".env\")\n",
    "openai.api_key = os.getenv(\"OPENAI_API_KEY\")"
   ]
  },
  {
   "cell_type": "code",
   "execution_count": 2,
   "metadata": {},
   "outputs": [],
   "source": [
    "def _remove_a_key(d, remove_key) -> None:\n",
    "    \"\"\"Remove a key from a dictionary recursively\"\"\"\n",
    "    if isinstance(d, dict):\n",
    "        for key in list(d.keys()):\n",
    "            if key == remove_key:\n",
    "                del d[key]\n",
    "            else:\n",
    "                _remove_a_key(d[key], remove_key)"
   ]
  },
  {
   "cell_type": "code",
   "execution_count": 4,
   "metadata": {},
   "outputs": [],
   "source": [
    "class openai_function:\n",
    "    def __init__(self, func: Callable) -> None:\n",
    "        self.func = func\n",
    "        self.validate_func = validate_arguments(func)\n",
    "        parameters = self.validate_func.model.schema()\n",
    "        parameters[\"properties\"] = {\n",
    "            k: v\n",
    "            for k, v in parameters[\"properties\"].items()\n",
    "            if k not in (\"v__duplicate_kwargs\", \"args\", \"kwargs\")\n",
    "        }\n",
    "        parameters[\"required\"] = sorted(\n",
    "            parameters[\"properties\"]\n",
    "        )  # bug workaround see lc\n",
    "        _remove_a_key(parameters, \"title\")\n",
    "        _remove_a_key(parameters, \"additionalProperties\")\n",
    "        self.openai_schema = {\n",
    "            \"name\": self.func.__name__,\n",
    "            \"description\": self.func.__doc__,\n",
    "            \"parameters\": parameters,\n",
    "        }\n",
    "        self.model = self.validate_func.model\n",
    "\n",
    "    def __call__(self, *args: Any, **kwargs: Any) -> Any:\n",
    "        @wraps(self.func)\n",
    "        def wrapper(*args, **kwargs):\n",
    "            return self.validate_func(*args, **kwargs)\n",
    "\n",
    "        return wrapper(*args, **kwargs)\n",
    "\n",
    "    def from_response(self, completion, throw_error=True):\n",
    "        \"\"\"Execute the function from the response of an openai chat completion\"\"\"\n",
    "        message = completion.choices[0].message\n",
    "\n",
    "        if throw_error:\n",
    "            assert \"function_call\" in message, \"No function call detected\"\n",
    "            assert (\n",
    "                message[\"function_call\"][\"name\"] == self.openai_schema[\"name\"]\n",
    "            ), \"Function name does not match\"\n",
    "\n",
    "        function_call = message[\"function_call\"]\n",
    "        arguments = json.loads(function_call[\"arguments\"])\n",
    "        return self.validate_func(**arguments)\n",
    "\n",
    "\n",
    "class OpenAISchema(BaseModel):\n",
    "    @classmethod\n",
    "    @property\n",
    "    def openai_schema(cls):\n",
    "        schema = cls.schema()\n",
    "        parameters = {\n",
    "            k: v for k, v in schema.items() if k not in (\"title\", \"description\")\n",
    "        }\n",
    "        parameters[\"required\"] = sorted(parameters[\"properties\"])\n",
    "        _remove_a_key(parameters, \"title\")\n",
    "        return {\n",
    "            \"name\": schema[\"title\"],\n",
    "            \"description\": schema[\"description\"],\n",
    "            \"parameters\": parameters,\n",
    "        }\n",
    "\n",
    "    @classmethod\n",
    "    def from_response(cls, completion, throw_error=True):\n",
    "        message = completion.choices[0].message\n",
    "\n",
    "        if throw_error:\n",
    "            assert \"function_call\" in message, \"No function call detected\"\n",
    "            assert (\n",
    "                message[\"function_call\"][\"name\"] == cls.openai_schema[\"name\"]\n",
    "            ), \"Function name does not match\"\n",
    "\n",
    "        function_call = message[\"function_call\"]\n",
    "        arguments = json.loads(function_call[\"arguments\"])\n",
    "        return cls(**arguments)"
   ]
  },
  {
   "cell_type": "code",
   "execution_count": 5,
   "metadata": {},
   "outputs": [],
   "source": [
    "@openai_function\n",
    "def sum(a:int, b:int) -> int:\n",
    "    \"\"\"Sum description adds a + b\"\"\"\n",
    "    return a + b"
   ]
  },
  {
   "cell_type": "code",
   "execution_count": 18,
   "metadata": {},
   "outputs": [],
   "source": [
    "@openai_function\n",
    "def execute_code(code):\n",
    "    \"\"\"execute_code description executes python code\"\"\"\n",
    "    buffer = io.StringIO()\n",
    "    with contextlib.redirect_stdout(buffer):\n",
    "        try:\n",
    "            exec(code, globals())\n",
    "        except Exception as e:\n",
    "            print(f\"Error: {e}\")\n",
    "    output = buffer.getvalue()\n",
    "    buffer.close()\n",
    "    return output"
   ]
  },
  {
   "cell_type": "code",
   "execution_count": 59,
   "metadata": {},
   "outputs": [
    {
     "name": "stdout",
     "output_type": "stream",
     "text": [
      "{\n",
      "  \"id\": \"chatcmpl-7UQ4X4Bl8uBmmkK7OClxgTvBPQnqu\",\n",
      "  \"object\": \"chat.completion\",\n",
      "  \"created\": 1687484417,\n",
      "  \"model\": \"gpt-4-0613\",\n",
      "  \"choices\": [\n",
      "    {\n",
      "      \"index\": 0,\n",
      "      \"message\": {\n",
      "        \"role\": \"assistant\",\n",
      "        \"content\": \"I'm sorry for the confusion, but it's not possible to build a diagram using the `execute_code` function. The `execute_code` function is used to execute Python code, not to create diagrams. However, you can use Python libraries such as matplotlib or seaborn to create diagrams, but these diagrams can't be displayed using the `execute_code` function. \\n\\nIf you want to build a diagram for a convolutional neural network, you can use libraries such as Keras or PyTorch, which provide functions to visualize the architecture of neural networks. However, these diagrams are typically displayed in a Jupyter notebook or other interactive Python environments, not through a function like `execute_code`. \\n\\nIf you're working in a Jupyter notebook, here's an example of how you can use Keras to build and visualize a convolutional neural network:\\n\\n```python\\nfrom keras.models import Sequential\\nfrom keras.layers import Conv2D, MaxPooling2D, Flatten, Dense\\nfrom keras.utils import plot_model\\n\\n# Build the model\\nmodel = Sequential()\\nmodel.add(Conv2D(32, (3, 3), activation='relu', input_shape=(64, 64, 3)))\\nmodel.add(MaxPooling2D(pool_size=(2, 2)))\\nmodel.add(Flatten())\\nmodel.add(Dense(128, activation='relu'))\\nmodel.add(Dense(1, activation='sigmoid'))\\n\\n# Visualize the model\\nplot_model(model, to_file='model.png', show_shapes=True, show_layer_names=True)\\n```\\n\\nThis code will create a PNG image named 'model.png' that shows the architecture of the model. You can open this image to see the diagram.\"\n",
      "      },\n",
      "      \"finish_reason\": \"stop\"\n",
      "    }\n",
      "  ],\n",
      "  \"usage\": {\n",
      "    \"prompt_tokens\": 112,\n",
      "    \"completion_tokens\": 339,\n",
      "    \"total_tokens\": 451\n",
      "  }\n",
      "}\n"
     ]
    }
   ],
   "source": [
    "completion = openai.ChatCompletion.create(\n",
    "        model=\"gpt-4-0613\",\n",
    "        temperature=0,\n",
    "        functions=[execute_code.openai_schema],\n",
    "        messages=[\n",
    "            {\n",
    "                \"role\": \"system\",\n",
    "                \"content\": \"You must use the `execute_code` function instead of writing python code. Make sure to always include a print() statement and print your answers\",\n",
    "            },\n",
    "            {\n",
    "                \"role\": \"user\",\n",
    "                \"content\": \"build a diagram for a convolutional neural net using python. Instead of writing Python, use the `execute_code` function. Make sure to include a print() statment for your answer\",\n",
    "            },\n",
    "        ],\n",
    "    )\n",
    "\n",
    "print(completion)"
   ]
  },
  {
   "cell_type": "code",
   "execution_count": 60,
   "metadata": {},
   "outputs": [
    {
     "ename": "AssertionError",
     "evalue": "No function call detected",
     "output_type": "error",
     "traceback": [
      "\u001b[0;31m---------------------------------------------------------------------------\u001b[0m",
      "\u001b[0;31mAssertionError\u001b[0m                            Traceback (most recent call last)",
      "Cell \u001b[0;32mIn[60], line 1\u001b[0m\n\u001b[0;32m----> 1\u001b[0m result \u001b[39m=\u001b[39m execute_code\u001b[39m.\u001b[39;49mfrom_response(completion)\n\u001b[1;32m      2\u001b[0m \u001b[39mprint\u001b[39m(result)\n",
      "Cell \u001b[0;32mIn[4], line 35\u001b[0m, in \u001b[0;36mopenai_function.from_response\u001b[0;34m(self, completion, throw_error)\u001b[0m\n\u001b[1;32m     32\u001b[0m message \u001b[39m=\u001b[39m completion\u001b[39m.\u001b[39mchoices[\u001b[39m0\u001b[39m]\u001b[39m.\u001b[39mmessage\n\u001b[1;32m     34\u001b[0m \u001b[39mif\u001b[39;00m throw_error:\n\u001b[0;32m---> 35\u001b[0m     \u001b[39massert\u001b[39;00m \u001b[39m\"\u001b[39m\u001b[39mfunction_call\u001b[39m\u001b[39m\"\u001b[39m \u001b[39min\u001b[39;00m message, \u001b[39m\"\u001b[39m\u001b[39mNo function call detected\u001b[39m\u001b[39m\"\u001b[39m\n\u001b[1;32m     36\u001b[0m     \u001b[39massert\u001b[39;00m (\n\u001b[1;32m     37\u001b[0m         message[\u001b[39m\"\u001b[39m\u001b[39mfunction_call\u001b[39m\u001b[39m\"\u001b[39m][\u001b[39m\"\u001b[39m\u001b[39mname\u001b[39m\u001b[39m\"\u001b[39m] \u001b[39m==\u001b[39m \u001b[39mself\u001b[39m\u001b[39m.\u001b[39mopenai_schema[\u001b[39m\"\u001b[39m\u001b[39mname\u001b[39m\u001b[39m\"\u001b[39m]\n\u001b[1;32m     38\u001b[0m     ), \u001b[39m\"\u001b[39m\u001b[39mFunction name does not match\u001b[39m\u001b[39m\"\u001b[39m\n\u001b[1;32m     40\u001b[0m function_call \u001b[39m=\u001b[39m message[\u001b[39m\"\u001b[39m\u001b[39mfunction_call\u001b[39m\u001b[39m\"\u001b[39m]\n",
      "\u001b[0;31mAssertionError\u001b[0m: No function call detected"
     ]
    }
   ],
   "source": [
    "result = execute_code.from_response(completion)\n",
    "print(result)"
   ]
  }
 ],
 "metadata": {
  "kernelspec": {
   "display_name": "venv",
   "language": "python",
   "name": "python3"
  },
  "language_info": {
   "codemirror_mode": {
    "name": "ipython",
    "version": 3
   },
   "file_extension": ".py",
   "mimetype": "text/x-python",
   "name": "python",
   "nbconvert_exporter": "python",
   "pygments_lexer": "ipython3",
   "version": "3.9.7"
  },
  "orig_nbformat": 4
 },
 "nbformat": 4,
 "nbformat_minor": 2
}
